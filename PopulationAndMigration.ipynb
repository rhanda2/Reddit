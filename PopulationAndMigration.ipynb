{
  "nbformat": 4,
  "nbformat_minor": 0,
  "metadata": {
    "colab": {
      "name": "PopulationAndMigration.ipynb",
      "provenance": [],
      "authorship_tag": "ABX9TyP0WNGYYg/7aGDDrxfeMP1q",
      "include_colab_link": true
    },
    "kernelspec": {
      "name": "python3",
      "display_name": "Python 3"
    }
  },
  "cells": [
    {
      "cell_type": "markdown",
      "metadata": {
        "id": "view-in-github",
        "colab_type": "text"
      },
      "source": [
        "<a href=\"https://colab.research.google.com/github/rhanda2/Reddit/blob/master/PopulationAndMigration.ipynb\" target=\"_parent\"><img src=\"https://colab.research.google.com/assets/colab-badge.svg\" alt=\"Open In Colab\"/></a>"
      ]
    },
    {
      "cell_type": "code",
      "metadata": {
        "id": "GI5oGKddo3DZ"
      },
      "source": [
        "import pandas as pd\r\n"
      ],
      "execution_count": 1,
      "outputs": []
    },
    {
      "cell_type": "code",
      "metadata": {
        "colab": {
          "base_uri": "https://localhost:8080/"
        },
        "id": "cwFiS0EKqlcu",
        "outputId": "612b7d78-8b01-48fc-8df6-9840c1fc291c"
      },
      "source": [
        "migrants_data = pd.read_excel(\"delhi-migrants-state.XLSX\")\r\n",
        "migrants_data.columns\r\n",
        "migrants_data['Total_Migrants'] = migrants_data['Migrants <1'] + migrants_data['Migrants 1-4'] + migrants_data['Migrants 5-9']"
      ],
      "execution_count": 10,
      "outputs": [
        {
          "output_type": "stream",
          "text": [
            "      State  District  ... Migrants 1-4  Migrants 5-9\n",
            "0         7         0  ...      1120655       1196093\n",
            "1         7         0  ...        34592         33160\n",
            "2         7         0  ...      1086063       1162933\n",
            "3         7         0  ...      1098771       1176303\n",
            "4         7         0  ...        34229         32648\n",
            "...     ...       ...  ...          ...           ...\n",
            "5005      7        98  ...            0             0\n",
            "5006      7        98  ...           31            15\n",
            "5007      7        98  ...         4495          4650\n",
            "5008      7        98  ...            3             1\n",
            "5009      7        98  ...         4492          4649\n",
            "\n",
            "[5010 rows x 6 columns]\n"
          ],
          "name": "stdout"
        }
      ]
    },
    {
      "cell_type": "code",
      "metadata": {
        "colab": {
          "base_uri": "https://localhost:8080/"
        },
        "id": "e5QCoD5FqzzU",
        "outputId": "7f3a5536-a572-4f8d-e89f-c52fcae0aacc"
      },
      "source": [
        "census_2011_data = pd.read_excel(\"PCA _2011_Distt-Sub_Dist_NCT_of_Delhi.xls\")\r\n",
        "census_2011_data.drop(columns=[\"Total/ Rural/ Urban\"])\r\n",
        "census_2011_data.rename(columns= {\"State/District/          Sub District\" : \"District\"}, inplace= True)"
      ],
      "execution_count": 23,
      "outputs": [
        {
          "output_type": "stream",
          "text": [
            "Index(['State/District/          Sub District', 'Total/ Rural/ Urban',\n",
            "       'Growth Rate 2001-2011', 'Child population in the age-group     0-6',\n",
            "       '% of Child Population in the age group 0-6 years', 'Literates',\n",
            "       'Literacy Rate'],\n",
            "      dtype='object')\n",
            "Index(['District', 'Total/ Rural/ Urban', 'Growth Rate 2001-2011',\n",
            "       'Child population in the age-group     0-6',\n",
            "       '% of Child Population in the age group 0-6 years', 'Literates',\n",
            "       'Literacy Rate'],\n",
            "      dtype='object')\n",
            "              District Total/ Rural/ Urban  ...  Literates  Literacy Rate\n",
            "0        NCT of Delhi                Total  ...   12737767      86.208779\n",
            "1  North West District               Total  ...    2707855      84.445113\n",
            "2       North District               Total  ...     681517      86.853521\n",
            "3  North East District               Total  ...    1611588      83.085380\n",
            "4        East District               Total  ...    1352998      89.307447\n",
            "5   New Delhi District               Total  ...     114179      88.343753\n",
            "6     Central District               Total  ...     442360      85.137832\n",
            "7        West District               Total  ...    1961179      86.977110\n",
            "8  South West District               Total  ...    1787689      88.282290\n",
            "9       South District               Total  ...    2078402      86.568125\n",
            "\n",
            "[10 rows x 7 columns]\n"
          ],
          "name": "stdout"
        }
      ]
    },
    {
      "cell_type": "code",
      "metadata": {
        "id": "DVbGWr7O01Do"
      },
      "source": [
        "migrants_data.groupby()"
      ],
      "execution_count": null,
      "outputs": []
    }
  ]
}