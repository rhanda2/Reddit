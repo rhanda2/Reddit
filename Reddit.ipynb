{
  "nbformat": 4,
  "nbformat_minor": 0,
  "metadata": {
    "colab": {
      "name": "Reddit",
      "provenance": [],
      "collapsed_sections": [],
      "toc_visible": true
    },
    "kernelspec": {
      "name": "python3",
      "display_name": "Python 3"
    }
  },
  "cells": [
    {
      "cell_type": "markdown",
      "metadata": {
        "id": "7EiNQ358NbiU",
        "colab_type": "text"
      },
      "source": [
        "##Data parsing\n",
        "The following script will be for parsing in data from Reddit through \"praw\"\n"
      ]
    },
    {
      "cell_type": "code",
      "metadata": {
        "colab_type": "code",
        "id": "yWDVj1_xZ9SQ",
        "colab": {}
      },
      "source": [
        "#! python3\n",
        "# !pip install praw\n",
        "import praw\n",
        "import pandas as pd\n",
        "import datetime as dt\n",
        "import numpy as np\n",
        "import matplotlib\n",
        "matplotlib.rcParams['font.family'] = 'serif'\n",
        "import matplotlib.pyplot as plt\n",
        "\n",
        "reddit = praw.Reddit(client_id='biHuZNftcyXJNw',\n",
        "                     client_secret='NBRuoUNvSSuRp60IqlKZon7l474',\n",
        "                     user_agent='Learning Curve',\n",
        "                     username='UltimateFox69',\n",
        "                     password='ABCD1234')\n",
        "\n",
        "subreddit = reddit.subreddit('india')\n",
        "\n",
        "topics_dict = { \"title\":[], \\\n",
        "                \"score\":[], \\\n",
        "                \"flair\":[], \\\n",
        "                \"url\":[], \\\n",
        "                \"num_comments\":[], \\\n",
        "                \"created\": []}\n",
        "\n",
        "for submission in subreddit.top(\"year\",limit=250):\n",
        "    topics_dict[\"title\"].append(submission.title)\n",
        "    topics_dict[\"score\"].append(submission.score)\n",
        "    topics_dict[\"flair\"].append(submission.link_flair_text)\n",
        "    topics_dict[\"num_comments\"].append(submission.num_comments)\n",
        "    topics_dict[\"url\"].append(submission.url)\n",
        "    topics_dict[\"created\"].append(submission.created)\n",
        "\n",
        "topics_data = pd.DataFrame(topics_dict)\n",
        "\n",
        "def get_date(created):\n",
        "    return dt.datetime.fromtimestamp(created)\n",
        "\n",
        "_timestamp = topics_data[\"created\"].apply(get_date)\n",
        "topics_data = topics_data.assign(timestamp = _timestamp)\n",
        "\n",
        "topics_data.to_csv(\"Required_data.csv\", index=False)"
      ],
      "execution_count": 0,
      "outputs": []
    },
    {
      "cell_type": "markdown",
      "metadata": {
        "id": "-CAYELoFU3OK",
        "colab_type": "text"
      },
      "source": [
        "##Data Cleaning and Processing\n",
        "Storing data into different dictionaries so to be able to plot different aspects of data.\n",
        "Calculating "
      ]
    },
    {
      "cell_type": "code",
      "metadata": {
        "id": "bsUEUtsINwu8",
        "colab_type": "code",
        "outputId": "aa866bfa-ebea-447c-a286-5e5b03001654",
        "colab": {
          "base_uri": "https://localhost:8080/",
          "height": 50
        }
      },
      "source": [
        "import re \n",
        "pd.set_option('mode.chained_assignment', None)\n",
        "posts = pd.read_csv(\"Required_data.csv\")\n",
        "flair_list = list(posts[\"flair\"])\n",
        "commentsNum = list(posts[\"num_comments\"])\n",
        "upvotes_num = list(posts[\"score\"])\n",
        "flair_dict = {}\n",
        "flair_comments_per_post = {}\n",
        "flair_upvotes_per_post = {}\n",
        "for x in range(len(flair_list)):\n",
        "\n",
        "  if re.search(\"Non-Politic.+\",flair_list[x]):\n",
        "    counter = 0\n",
        "  elif re.search(\"Poli.+\",flair_list[x]) or flair_list[x] == \"Demonetization\" or flair_list[x] == \"CAA-NRC\" or flair_list[x] == '[R]eddiquette':\n",
        "    flair_list[x] = \"Politics\"\n",
        "  elif flair_list[x] == 'Zoke Tyme' or flair_list[x] == 'Photography' or flair_list[x] == \"Sports\" or flair_list[x] == 'Official Sadness Thread' or flair_list[x] == \"Food\":\n",
        "    flair_list[x] = \"Leisure\"\n",
        "      \n",
        "  if commentsNum[x] == None:\n",
        "    commentsNum[x] = 0\n",
        "  if upvotes_num[x] is None:\n",
        "    upvotes_num[x] = 0\n",
        "  if flair_list[x] == None:\n",
        "    flair_list[x] = \"None\"\n",
        "\n",
        "  if flair_list[x] not in flair_dict:\n",
        "    flair_dict[flair_list[x]] = [commentsNum[x],1,upvotes_num[x],0,0]\n",
        "  else:\n",
        "    flair_dict[flair_list[x]][1] += 1\n",
        "    flair_dict[flair_list[x]][0] += int(commentsNum[x])\n",
        "  flair_dict[flair_list[x]][3] = flair_dict[flair_list[x]][0]/flair_dict[flair_list[x]][1]\n",
        "  flair_dict[flair_list[x]][4] = flair_dict[flair_list[x]][2]/flair_dict[flair_list[x]][1]\n",
        "  flair_comments_per_post[flair_list[x]] = flair_dict[flair_list[x]][3]\n",
        "  flair_upvotes_per_post[flair_list[x]] = flair_dict[flair_list[x]][4]\n",
        "\n",
        "# print(i)\n",
        "# print(flair_dict)\n",
        "np_flair = np.array(list(flair_comments_per_post.keys()))\n",
        "np_comments_per_post = np.array(list(flair_comments_per_post.values()))\n",
        "np_upvotes_per_post = np.array(list(flair_upvotes_per_post.values()))\n",
        "print(np_flair)\n",
        "# print(np_comments_per_post)"
      ],
      "execution_count": 61,
      "outputs": [
        {
          "output_type": "stream",
          "text": [
            "['Politics' 'Coronavirus' 'Non-Political' 'Leisure' 'Unverified'\n",
            " 'Science/Technology' 'Business/Finance' 'AskIndia']\n"
          ],
          "name": "stdout"
        }
      ]
    },
    {
      "cell_type": "markdown",
      "metadata": {
        "id": "hMRVmimla2Ev",
        "colab_type": "text"
      },
      "source": [
        "##Statistics\n",
        "Obtaining mean, median and mode of upvotes of all the posts."
      ]
    },
    {
      "cell_type": "code",
      "metadata": {
        "id": "D5BfQ65ZauFJ",
        "colab_type": "code",
        "outputId": "5514f9a8-4afe-4bba-a038-0f9ed3675dac",
        "colab": {
          "base_uri": "https://localhost:8080/",
          "height": 185
        }
      },
      "source": [
        "# for comments\n",
        "import statistics as stats\n",
        "def mode(numbers):\n",
        "    largestCount = 0\n",
        "    modes = []\n",
        "    for x in numbers:\n",
        "        if x in modes:\n",
        "            continue\n",
        "        count = numbers.count(x)\n",
        "        if count > largestCount:\n",
        "            del modes[:]\n",
        "            modes.append(x)\n",
        "            largestCount = count\n",
        "        elif count == largestCount:\n",
        "            modes.append(x)\n",
        "    print(largestCount)\n",
        "    return modes\n",
        "mean = stats.mean(commentsNum)\n",
        "median = stats.median(commentsNum)\n",
        "mode = mode(commentsNum)\n",
        "print(\"For Comments\")\n",
        "print(mean)\n",
        "print(median)\n",
        "print(mode)\n",
        "def mode2(numbers):\n",
        "    largestCount = 0\n",
        "    modes = []\n",
        "    for x in numbers:\n",
        "        if x in modes:\n",
        "            continue\n",
        "        count = numbers.count(x)\n",
        "        if count > largestCount:\n",
        "            del modes[:]\n",
        "            modes.append(x)\n",
        "            largestCount = count\n",
        "        elif count == largestCount:\n",
        "            modes.append(x)\n",
        "    print(largestCount)\n",
        "    return modes\n",
        "# for upvotes\n",
        "mean = stats.mean(upvotes_num)\n",
        "median = stats.median(upvotes_num)\n",
        "modeUpvotes = mode2(upvotes_num)\n",
        "print(\"For Upvotes\")\n",
        "print(mean)\n",
        "print(median)\n",
        "print(modeUpvotes)\n"
      ],
      "execution_count": 56,
      "outputs": [
        {
          "output_type": "stream",
          "text": [
            "4\n",
            "For Comments\n",
            "269.276\n",
            "184.5\n",
            "[179, 150, 187, 152, 115]\n",
            "3\n",
            "For Upvotes\n",
            "3827.144\n",
            "3207.0\n",
            "[3602, 2930]\n"
          ],
          "name": "stdout"
        }
      ]
    },
    {
      "cell_type": "markdown",
      "metadata": {
        "id": "a0tBKqjoVRCQ",
        "colab_type": "text"
      },
      "source": [
        "##Data plotting \n"
      ]
    },
    {
      "cell_type": "code",
      "metadata": {
        "id": "21-6KOLqTiRT",
        "colab_type": "code",
        "outputId": "59ae1ae0-4d0f-4429-d941-777a904b55ce",
        "colab": {
          "base_uri": "https://localhost:8080/",
          "height": 805
        }
      },
      "source": [
        "def plot_bar_x(y_axis_val, y_label, title):\n",
        "    # this is for plotting purpose\n",
        "    index = np.arange(len(np_flair))\n",
        "    plt.bar(index, y_axis_val)\n",
        "    plt.xlabel('Flairs', fontsize=15)\n",
        "    plt.ylabel(y_label, fontsize=15)\n",
        "    plt.xticks(index, np_flair, fontsize=10, rotation=90)\n",
        "    plt.title(title)\n",
        "    plt.show()\n",
        "    plt.close()\n",
        "plot_bar_x(np_comments_per_post, 'Comments per Post', 'Comments per Post for each Flair')\n",
        "plot_bar_x(np_upvotes_per_post, \"Upvotes per Post\", \"Upvotes per Post for each Flair\")"
      ],
      "execution_count": 57,
      "outputs": [
        {
          "output_type": "display_data",
          "data": {
            "image/png": "[encoded data removed]",
            "text/plain": [
              "<Figure size 432x288 with 1 Axes>"
            ]
          },
          "metadata": {
            "tags": [],
            "needs_background": "light"
          }
        },
        {
          "output_type": "display_data",
          "data": {
            "image/png": "[encoded data removed]",
            "text/plain": [
              "<Figure size 432x288 with 1 Axes>"
            ]
          },
          "metadata": {
            "tags": [],
            "needs_background": "light"
          }
        }
      ]
    }
  ]
}