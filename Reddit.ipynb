{
  "nbformat": 4,
  "nbformat_minor": 0,
  "metadata": {
    "colab": {
      "name": "Reddit",
      "provenance": [],
      "collapsed_sections": []
    },
    "kernelspec": {
      "name": "python3",
      "display_name": "Python 3"
    }
  },
  "cells": [
    {
      "cell_type": "code",
      "metadata": {
        "colab_type": "code",
        "id": "yWDVj1_xZ9SQ",
        "outputId": "d65a2c82-a1e1-43d5-c1e1-04158b212b09",
        "colab": {
          "base_uri": "https://localhost:8080/",
          "height": 128
        }
      },
      "source": [
        "#! python3\n",
        "import praw\n",
        "import pandas as pd\n",
        "import datetime as dt\n",
        "import numpy as np\n",
        "import matplotlib\n",
        "matplotlib.rcParams['font.family'] = 'serif'\n",
        "import matplotlib.pyplot as plt\n",
        "\n",
        "reddit = praw.Reddit(client_id='biHuZNftcyXJNw',\n",
        "                     client_secret='NBRuoUNvSSuRp60IqlKZon7l474',\n",
        "                     user_agent='Learning Curve',\n",
        "                     username='UltimateFox69',\n",
        "                     password='ABCD1234')\n",
        "\n",
        "subreddit = reddit.subreddit('india')\n",
        "\n",
        "topics_dict = { \"title\":[], \\\n",
        "                \"score\":[], \\\n",
        "                \"flair\":[], \\\n",
        "                \"url\":[], \\\n",
        "                \"num_comments\":[], \\\n",
        "                \"created\": [], \\\n",
        "                \"body\":[]}\n",
        "\n",
        "for submission in subreddit.top(\"year\",limit=10000):\n",
        "    topics_dict[\"title\"].append(submission.title)\n",
        "    topics_dict[\"score\"].append(submission.score)\n",
        "    topics_dict[\"flair\"].append(submission.link_flair_text)\n",
        "    topics_dict[\"num_comments\"].append(submission.num_comments)\n",
        "    topics_dict[\"url\"].append(submission.url)\n",
        "    topics_dict[\"created\"].append(submission.created)\n",
        "    topics_dict[\"body\"].append(submission.selftext)\n",
        "\n",
        "topics_data = pd.DataFrame(topics_dict)\n",
        "\n",
        "def get_date(created):\n",
        "    return dt.datetime.fromtimestamp(created)\n",
        "\n",
        "_timestamp = topics_data[\"created\"].apply(get_date)\n",
        "topics_data = topics_data.assign(timestamp = _timestamp)\n",
        "\n",
        "flair_list = topics_dict[\"flair\"]\n",
        "commentsNum = topics_dict[\"num_comments\"]\n",
        "upvotes_num = topics_dict[\"score\"]\n",
        "flair_dict = {}\n",
        "flair_comments_per_post = {}\n",
        "flair_upvotes_per_post = {}\n",
        "for x in range(len(flair_list)):\n",
        "\n",
        "  if commentsNum[x] == None:\n",
        "    commentsNum[x] = 0\n",
        "  if upvotes_num[x] is None:\n",
        "    upvotes_num[x] = 0\n",
        "  if flair_list[x] == None:\n",
        "    flair_list[x] = \"None\"\n",
        "  if flair_list[x] not in flair_dict:\n",
        "    flair_dict[flair_list[x]] = [commentsNum[x],1,upvotes_num[x],0,0]\n",
        "  else:\n",
        "    flair_dict[flair_list[x]][1] += 1\n",
        "    flair_dict[flair_list[x]][0] += int(commentsNum[x])\n",
        "  flair_dict[flair_list[x]][3] = flair_dict[flair_list[x]][0]/flair_dict[flair_list[x]][1]\n",
        "  flair_dict[flair_list[x]][4] = flair_dict[flair_list[x]][2]/flair_dict[flair_list[x]][1]\n",
        "  flair_comments_per_post[flair_list[x]] = flair_dict[flair_list[x]][3]\n",
        "  flair_upvotes_per_post[flair_list[x]] = flair_dict[flair_list[x]][4]\n",
        "\n",
        "# print(i)\n",
        "# print(flair_dict)\n",
        "np_flair = np.array(list(flair_comments_per_post.keys()))\n",
        "np_comments_per_post = np.array(list(flair_comments_per_post.values()))\n",
        "np_upvotes_per_post = np.array(list(flair_upvotes_per_post.values()))\n",
        "# print(np_flair)\n",
        "# print(np_comments_per_post)\n",
        "\n",
        "def plot_bar_x(y_axis_val, y_label, title):\n",
        "    # this is for plotting purpose\n",
        "    index = np.arange(len(np_flair))\n",
        "    plt.bar(index, y_axis_val)\n",
        "    plt.xlabel('Flairs', fontsize=15)\n",
        "    plt.ylabel(y_label, fontsize=15)\n",
        "    plt.xticks(index, np_flair, fontsize=10, rotation=90)\n",
        "    plt.title(title)\n",
        "    plt.show()\n",
        "    plt.close()\n",
        "plot_bar_x(np_comments_per_post, 'Comments per Post', 'Comments per Post for each Flair')\n",
        "plot_bar_x(np_upvotes_per_post, \"Upvotes per Post\", \"Upvotes per Post for each Flair\")\n",
        "#topics_data.to_csv(\"Midas_data.csv\", index=False)"
      ],
      "execution_count": 4,
      "outputs": [
        {
          "output_type": "error",
          "ename": "SyntaxError",
          "evalue": "ignored",
          "traceback": [
            "\u001b[0;36m  File \u001b[0;32m\"<ipython-input-4-d263204a7139>\"\u001b[0;36m, line \u001b[0;32m2\u001b[0m\n\u001b[0;31m    sudo easy_install pip\u001b[0m\n\u001b[0m                    ^\u001b[0m\n\u001b[0;31mSyntaxError\u001b[0m\u001b[0;31m:\u001b[0m invalid syntax\n"
          ]
        }
      ]
    }
  ]
}