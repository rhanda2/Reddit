{
  "nbformat": 4,
  "nbformat_minor": 0,
  "metadata": {
    "colab": {
      "name": "Schools.ipynb",
      "provenance": [],
      "authorship_tag": "ABX9TyNYr77AHWmya3u+PG5VVIoR",
      "include_colab_link": true
    },
    "kernelspec": {
      "name": "python3",
      "display_name": "Python 3"
    }
  },
  "cells": [
    {
      "cell_type": "markdown",
      "metadata": {
        "id": "view-in-github",
        "colab_type": "text"
      },
      "source": [
        "<a href=\"https://colab.research.google.com/github/rhanda2/Reddit/blob/master/Schools.ipynb\" target=\"_parent\"><img src=\"https://colab.research.google.com/assets/colab-badge.svg\" alt=\"Open In Colab\"/></a>"
      ]
    },
    {
      "cell_type": "code",
      "metadata": {
        "colab": {
          "base_uri": "https://localhost:8080/"
        },
        "id": "wA-zKrzldri1",
        "outputId": "b50c09e8-7b18-467c-f95b-2a0647593391"
      },
      "source": [
        "#importing libraries\n",
        "import requests\n",
        "from bs4 import BeautifulSoup\n",
        "import re\n",
        "import unicodedata\n",
        "\n",
        "urlLink = 'https://schools.org.in/south-delhi/07090318901/apeejay-school-sheikh-sarai-i-new-delhi.html'\n",
        "\n",
        "title = ''\n",
        "atext = ''\n",
        "\n",
        "try:\n",
        "  page = requests.get(urlLink)\n",
        "except:\n",
        "  print('Page not accessible')\n",
        "\n",
        "soup = BeautifulSoup(page.content, 'html.parser')\n",
        "everything = soup.find()\n",
        "\n",
        "print(everything)"
      ],
      "execution_count": null,
      "outputs": [
        {
          "output_type": "stream",
          "text": [
            "<html class=\"no-js\" lang=\"en\"> <!--<![endif]-->\n",
            "<head>\n",
            "<base href=\"https://schools.org.in/\"/> <meta charset=\"utf-8\"/>\n",
            "<meta content=\"IE=edge,chrome=1\" http-equiv=\"X-UA-Compatible\"/>\n",
            "<link href=\"assets/images/favicon.png\" rel=\"shortcut icon\" type=\"image/x-icon\"/>\n",
            "<link href=\"assets/images/favicon.png\" rel=\"apple-touch-icon\"/>\n",
            "<meta content=\"width=device-width, minimum-scale=1.0, maximum-scale=1.0, user-scalable=no\" name=\"viewport\"/>\n",
            "<script async=\"\" src=\"https://pagead2.googlesyndication.com/pagead/js/adsbygoogle.js\"></script>\n",
            "<script>\n",
            "\t\t (adsbygoogle = window.adsbygoogle || []).push({\n",
            "\t\t\t  google_ad_client: \"ca-pub-9184966835362043\",\n",
            "\t\t\t  enable_page_level_ads: true\n",
            "\t\t });\n",
            "\t</script>\n",
            "<style>\n",
            "       /* Set the size of the div element that contains the map */\n",
            "      #map {\n",
            "        height: 300px;  /* The height is 400 pixels */\n",
            "        width: 100%;  /* The width is the width of the web page */\n",
            "       }\n",
            "    </style>\n",
            "<title> Apeejay School , Sheikh Sarai - I, New Delhi                                                          - 189-chirag Delhi, District South Delhi (Delhi) </title>\n",
            "<meta content=\"Apeejay School , Sheikh Sarai - I, New Delhi                                                         - 189-chirag Delhi, District South Delhi, Delhi. The Best School in 189-chirag Delhi\" name=\"description\">\n",
            "<link href=\"https://schools.org.in/south-delhi/07090318901/apeejay-school-sheikh-sarai-i-new-delhi.html\" rel=\"canonical\">\n",
            "<meta content=\"https://schools.org.in/assets/images/schools-org.jpg\" property=\"og:image\">\n",
            "<link href=\"https://use.fontawesome.com/releases/v5.7.0/css/all.css\" rel=\"stylesheet\"/>\n",
            "<link href=\"https://maxcdn.bootstrapcdn.com/bootstrap/4.4.1/css/bootstrap.min.css\" rel=\"stylesheet\"/>\n",
            "<script src=\"https://ajax.googleapis.com/ajax/libs/jquery/3.4.1/jquery.min.js\"></script>\n",
            "<script src=\"https://cdnjs.cloudflare.com/ajax/libs/popper.js/1.16.0/umd/popper.min.js\"></script>\n",
            "<script src=\"https://maxcdn.bootstrapcdn.com/bootstrap/4.4.1/js/bootstrap.min.js\"></script>\n",
            "<link href=\"assets/css/style.css\" rel=\"stylesheet\">\n",
            "<script type=\"text/javascript\">var _Hasync= _Hasync|| [];\n",
            "\t_Hasync.push(['Histats.start', '1,4228937,4,0,0,0,00010000']);\n",
            "\t_Hasync.push(['Histats.fasi', '1']);\n",
            "\t_Hasync.push(['Histats.track_hits', '']);\n",
            "\t(function() {\n",
            "\tvar hs = document.createElement('script'); hs.type = 'text/javascript'; hs.async = true;\n",
            "\ths.src = ('//s10.histats.com/js15_as.js');\n",
            "\t(document.getElementsByTagName('head')[0] || document.getElementsByTagName('body')[0]).appendChild(hs);\n",
            "\t})();</script>\n",
            "</link></meta></link></meta></head>\n",
            "<body class=\"bg-light\">\n",
            "<nav class=\"navbar navbar-expand-lg navbar-light bg-light fixed-top\">\n",
            "<div class=\"container\">\n",
            "<a class=\"navbar-brand\" href=\"./\"><img src=\"assets/images/logo.png\" style=\"padding:0px\" width=\"140px\"/></a>\n",
            "<button aria-controls=\"navbarsExample07\" aria-expanded=\"false\" aria-label=\"Toggle navigation\" class=\"navbar-toggler\" data-target=\"#navbarsExample07\" data-toggle=\"collapse\" type=\"button\">\n",
            "<span class=\"navbar-toggler-icon\"></span>\n",
            "</button>\n",
            "<div class=\"collapse navbar-collapse\" id=\"navbarsExample07\">\n",
            "<ul class=\"navbar-nav ml-auto\">\n",
            "<li class=\"nav-item\">\n",
            "<a class=\"nav-link\" href=\"./\">Home <span class=\"sr-only\">(current)</span></a>\n",
            "</li>\n",
            "<li class=\"nav-item\">\n",
            "<a class=\"nav-link\" href=\"schools-in-india.html\">Schools in India</a>\n",
            "</li>\n",
            "<li class=\"nav-item\">\n",
            "<a class=\"nav-link\" href=\"https://www.infoqik.com/registered-companies.html\" target=\"new\">Compnaies in India</a>\n",
            "</li>\n",
            "<li class=\"nav-item\">\n",
            "<a class=\"nav-link\" href=\"https://www.infoqik.com/bank-ifsc-codes.html\" target=\"new\">IFSC Codes</a>\n",
            "</li>\n",
            "</ul>\n",
            "</div>\n",
            "</div>\n",
            "</nav>\n",
            "<div class=\"jumbotron text-center text-dark\" style=\" padding:25px;padding-top:40px;margin-top:61px; margin-bottom:0;background: gray; background-image: url(assets/images/school.jpg); background-size: 100% 100%; \">\n",
            "<h1><img class=\"img\" src=\"assets/images/favicon.png\" style=\"margin-top:-10px\" width=\"35px\"/> <span class=\"shd\">Apeejay School , Sheikh Sarai - I, New Delhi </span></h1></div></body></html>\n"
          ],
          "name": "stdout"
        }
      ]
    },
    {
      "cell_type": "code",
      "metadata": {
        "id": "KtLS3bIHmlZd"
      },
      "source": [
        ""
      ],
      "execution_count": null,
      "outputs": []
    }
  ]
}